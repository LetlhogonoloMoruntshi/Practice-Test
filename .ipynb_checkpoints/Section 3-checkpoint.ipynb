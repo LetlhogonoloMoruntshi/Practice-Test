{
 "cells": [
  {
   "cell_type": "code",
   "execution_count": null,
   "metadata": {},
   "outputs": [],
   "source": [
    "from bs4 import BeautifulSoup\n",
    "from selenium import webdriver\n",
    "from selenium.webdriver.chrome.options import Options\n",
    "import time"
   ]
  },
  {
   "cell_type": "code",
   "execution_count": null,
   "metadata": {},
   "outputs": [],
   "source": [
    "url = 'https://www.takealot.com/russell-hobbs-2200w-crease-control-iron/PLID34147865'\n",
    "options = Options()\n",
    "options.add_argument('--headless')\n",
    "options.add_argument('--disable-gpu')\n",
    "driver = webdriver.Chrome()\n",
    "driver.get(url)\n",
    "time.sleep(10)\n",
    "page = driver.page_source\n",
    "driver.quit()"
   ]
  },
  {
   "cell_type": "code",
   "execution_count": null,
   "metadata": {},
   "outputs": [],
   "source": [
    "soup = BeautifulSoup(page, 'lxml')"
   ]
  },
  {
   "cell_type": "code",
   "execution_count": null,
   "metadata": {},
   "outputs": [],
   "source": [
    "original_offer = soup.body.find(\"div\",{\"class\":\"pdp-core-module_actions_mdYzm\"})\n",
    "\n",
    "Price_source = original_offer.find(\"span\", {\"class\":\"currency plus currency-module_currency_29IIm\"}).text\n",
    "\n",
    "Availability_source = original_offer.find(\"div\", {\"class\":\"cell shrink stock-availability-status\"}).span.text\n",
    "\n",
    "Seller_source = original_offer.find(\"div\",{\"class\":\"seller-information\"}).span.text\n",
    "\n",
    "\n",
    "\n",
    "print('Price :',Price_source)\n",
    "print('Availability :',Availability_source)\n",
    "print('Seller :',Seller_source)"
   ]
  },
  {
   "cell_type": "code",
   "execution_count": null,
   "metadata": {},
   "outputs": [],
   "source": [
    "Other_offer = soup.body.find(\"div\",{\"class\":\"buying-choice-list-item buying-choice-list-item-module_buying-choice-list-item_1TaEB\"})\n",
    "\n",
    "price = Other_offer.find(\"span\", {\"class\":\"currency plus currency-module_currency_29IIm\"}).text\n",
    "Availability = Other_offer.find(\"div\", {\"class\":\"cell shrink stock-availability-status\"}).span.text\n",
    "Seller = Other_offer.find(\"div\", {\"class\":\"seller-information\"}).text\n",
    "\n",
    "print('Other offer details')\n",
    "print('Price :',price)\n",
    "print('Availability :',Availability)\n",
    "print('Seller :',Seller)"
   ]
  },
  {
   "cell_type": "code",
   "execution_count": null,
   "metadata": {},
   "outputs": [],
   "source": []
  }
 ],
 "metadata": {
  "kernelspec": {
   "display_name": "Python 3",
   "language": "python",
   "name": "python3"
  },
  "language_info": {
   "codemirror_mode": {
    "name": "ipython",
    "version": 3
   },
   "file_extension": ".py",
   "mimetype": "text/x-python",
   "name": "python",
   "nbconvert_exporter": "python",
   "pygments_lexer": "ipython3",
   "version": "3.8.3"
  }
 },
 "nbformat": 4,
 "nbformat_minor": 4
}
