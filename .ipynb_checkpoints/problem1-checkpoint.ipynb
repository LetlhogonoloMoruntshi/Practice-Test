{
 "cells": [
  {
   "cell_type": "markdown",
   "metadata": {},
   "source": [
    "# MPR213 Assignment Problem\n",
    "\n",
    "## Instructions\n",
    "\n",
    "- Fill in any place that says `# INSERT YOUR CODE FOLLOWING THIS LINE; DO NOT ERASE THIS LINE.`\n",
    "- Fill in your code right after this line and only in the same cell as this line.\n",
    "- You may copy cells or insert new cells in order to assist you in debugging your code.  **All copied or new cells, however, must be deleted before the file is finally saved as part of the answer to the assignment.  Failing to do so may crash the autograder and result in a zero mark for the whole assignment.**\n",
    "- You may use `nbtutor` to assist you in debugging your code.  **All code that refer to `nbtutor` should, however, be deleted before the file is finally saved as part of the answer to the assignment.  Failing to do so may crash the autograder and result in a zero mark for the whole assignment.**\n",
    "- **Do not rename this notebook otherwise the autograder will not grade it, resulting in a zero mark.**  For example, make sure that no space or a version number like `(2)` is inserted before the `.ipynb` of any one of the files of the assignment.  When students do not perform the upload to clickUP correctly, clickUP adds a version number.  When this happens, you need to correct it.  Note that on clickUP you can always go back the previously uploaded batches of files from the clickUP assignment, if it is still active, or otherwise by using the grade center (to check what you have uploaded after the clickUP assignment is no longer available).\n",
    "- Before you finally save your notebook file as answer to part of the assignment, make sure everything runs as expected:\n",
    "  - First, **restart the kernel** (in the menubar, select `Kernel` $\\rightarrow$ `Restart`).\n",
    "  - Second **run all cells** (in the menubar, select `Cell` $\\rightarrow$ `Run All`).  The whole notebook should now run from the first to the last cell without any interaction of a human programmer/operator, since the autograder cannot take any action on your behalf.\n",
    "  - If you cannot get a cell in your notebook to work properly, in the sense that Python interrupts with an error, the autograder will actually try to execute and grade the cells lower down in the notebook, so in such a case ensure that as much as possible of the lower cells run correctly.  This the autograder will do only if your submitted file does not contain new and/or copied cells.  If you do have problems with an erroneous cell that interrupts Python execution early in your notebook file, you can of course test the lower cells on a cell-by-cell basis or you can **run all cells below** (in the menubar, select `Cell` $\\rightarrow$ `Run All Below`).\n",
    "- Make sure you fill your student number (starting with \"u\", i.e. replace the \"12345678\" with your own student number) in the first code cell below.  Your student number with the preceding \"u\" must be such that Python reads it as a single string.\n",
    "- If you wish to protect your feedback (perusal) zip file with a password, you need to specify a password in the `problem1.ipynb` notebook, even if you choose not to answer the first problem."
   ]
  },
  {
   "cell_type": "markdown",
   "metadata": {
    "deletable": false,
    "editable": false,
    "nbgrader": {
     "cell_type": "markdown",
     "checksum": "e82762d74ec72cc72fe01a117b7e1bd4",
     "grade": false,
     "grade_id": "cell-68450ea48b9f6a5f",
     "locked": true,
     "schema_version": 3,
     "solution": false,
     "task": false
    }
   },
   "source": [
    "### Password protection of feedback file\n",
    "\n",
    "We are using a personal information protection system: the zip file containing the .html feedback files that are uploaded to clickUP after autograding, is password protected if you so choose.\n",
    "  - To make use of this, please specify your chosen password in the same line as your student number, in the first code cell.\n",
    "  - Python will read your password as a string, so it must be a string (i.e., enclosed in single or double quotes).\n",
    "  - In specifying your password, please use only numbers or lower or upper case alphabetic characters (i.e., no characters like `@`, `(`, `+`).\n",
    "  - If you specify a password longer than 16 characters, we shall use only the first 16 characters to protect your zip file.\n",
    "  - `pss1wrd2` is the default password.  If no password is specified, the password is set as `pss1wrd2`, for the sake of programme execution.  This password is however not used to protect the zip file.\n",
    "  - If you choose not to use a password, you my leave the default password `pss1wrd2`, initially written in this file, as is, or delete the part of the line that specifies the password.  If Python reads the password as `pss1wrd2`, the zip file will not be password protected.\n",
    "  - Only the first Jupyter Notebook file in a problem set will provide an opportunity to specify a paswsword, as there is just a single zip file for the assignment.\n",
    "  - You may use different passwords in different weekly assignments.\n",
    "  - Your feedback zip file will not be password protected if\n",
    "    - you make an error in specifying your password that causes an execution error of the Python code\n",
    "    - you make an error in specifying your student number."
   ]
  },
  {
   "cell_type": "code",
   "execution_count": null,
   "metadata": {
    "deletable": false,
    "nbgrader": {
     "cell_type": "code",
     "checksum": "d65063093d82ffc059b5035de35ee35f",
     "grade": false,
     "grade_id": "cell-99438dea4daf29d8",
     "locked": false,
     "schema_version": 3,
     "solution": true,
     "task": false
    }
   },
   "outputs": [],
   "source": [
    "checker1 = True  # Do not change this line.\n",
    "# INSERT YOUR CODE FOLLOWING THIS LINE; DO NOT ERASE THIS LINE.\n",
    "STUDENT_NUMBER  = \"u12345678\" ; password = \"pss1wrd2\""
   ]
  },
  {
   "cell_type": "code",
   "execution_count": null,
   "metadata": {
    "deletable": false,
    "editable": false,
    "nbgrader": {
     "cell_type": "code",
     "checksum": "79d0d6cc1626802f1545e520123c8ceb",
     "grade": false,
     "grade_id": "cell-513edc298c027874",
     "locked": true,
     "schema_version": 3,
     "solution": false,
     "task": false
    }
   },
   "outputs": [],
   "source": [
    "# Execute this cell to partly test whether the format you used to enter your student number in\n",
    "#      the cell above is correct.\n",
    "\n",
    "if checker1:\n",
    "    try:\n",
    "        assert STUDENT_NUMBER != \"u12345678\"\n",
    "    except AssertionError:\n",
    "        raise AssertionError(\"You have not replaced 12345678 with your student number in the cell above.\")\n",
    "\n",
    "try:\n",
    "    assert type(STUDENT_NUMBER) == str\n",
    "except AssertionError:\n",
    "    raise AssertionError(\"The variable STUDENT_NUMBER is not a string.\")\n",
    "\n",
    "try:\n",
    "    assert len(STUDENT_NUMBER) == 9\n",
    "except AssertionError:\n",
    "    raise AssertionError(\"The variable STUDENT_NUMBER is not 9 characters long.\")\n",
    "    \n",
    "try:\n",
    "    assert STUDENT_NUMBER[0] == 'u'\n",
    "except AssertionError:\n",
    "    raise AssertionError(\"The string variable STUDENT_NUMBER does not start with the character 'u'.\")"
   ]
  },
  {
   "cell_type": "code",
   "execution_count": null,
   "metadata": {
    "deletable": false,
    "editable": false,
    "nbgrader": {
     "cell_type": "code",
     "checksum": "43aeb351b0f490cda7988ff1f50a09bb",
     "grade": false,
     "grade_id": "cell-ee8b12872db54398",
     "locked": true,
     "schema_version": 3,
     "solution": false,
     "task": false
    }
   },
   "outputs": [],
   "source": [
    "# Execute this cell to perform a number of tests on your password\n",
    "\n",
    "try:\n",
    "    ff13 = password\n",
    "except NameError:\n",
    "    password = \"pss1wrd2\"\n",
    "\n",
    "try:\n",
    "    assert type(password) == str\n",
    "except AssertionError:\n",
    "    print(\"The variable password is not a string. No password will therefore be used.\")\n",
    "    password = \"pss1wrd2\"\n",
    "\n",
    "try:\n",
    "    assert len(password) <= 16\n",
    "except AssertionError:\n",
    "    print(\"Warning: only the first 16 characters of the given password will be used.\")\n",
    "    password = password[0:16]\n",
    "\n",
    "if not password.isalnum():\n",
    "    print('The selected password contains characters not allowed.')\n",
    "    print('No password will therefore be used.')\n",
    "\n",
    "\n",
    "        \n",
    "    \n",
    "    \n",
    "print(\"\\n\\nSo far so good!\")"
   ]
  },
  {
   "cell_type": "code",
   "execution_count": null,
   "metadata": {
    "deletable": false,
    "editable": false,
    "nbgrader": {
     "cell_type": "code",
     "checksum": "18c91a81f39030dfe121106a249a5436",
     "grade": true,
     "grade_id": "cell-b29ccd71867f8cfc",
     "locked": true,
     "points": 0,
     "schema_version": 3,
     "solution": false,
     "task": false
    }
   },
   "outputs": [],
   "source": [
    "# This cell is used in the grading of your work; do not delete."
   ]
  },
  {
   "cell_type": "markdown",
   "metadata": {
    "deletable": false,
    "editable": false,
    "nbgrader": {
     "cell_type": "markdown",
     "checksum": "0e22cc32a562c3c014bba3d45eab3a58",
     "grade": false,
     "grade_id": "cell-cf4beadd298c126e",
     "locked": true,
     "schema_version": 3,
     "solution": false
    }
   },
   "source": [
    "# Problem 1\n",
    "\n",
    "The heat transfer coefficient $h$, for internal pipe (or duct) flow, can be computed from the Nusselt number by:\n",
    "\n",
    "$$ h = \\frac{k \\mathrm{Nu}}{D_h} $$\n",
    "\n",
    "where $k$ is the thermal conductivity of the fluid.\n",
    "\n",
    "The hydraulic diameter $D_h$, of a rectangular duct, can be computed by:\n",
    "\n",
    "$$ D_h = \\frac{2wh}{w + h} $$\n",
    "\n",
    "where $w$ is the width and $h$ is the height of the duct cross-section.\n",
    "\n",
    "The Nusselt number $\\mathrm{Nu}$ can be computed by:\n",
    "\n",
    "$$ \\mathrm{Nu} = 0.023 \\mathrm{Re}^{4/5} \\mathrm{Pr}^{0.3} $$\n",
    "\n",
    "where $\\mathrm{Pr}$ is the Prandtl number of the fluid.\n",
    "\n",
    "The Renolds $\\mathrm{Re}$ number for a fuid flowing inside a pipe (or duct) can be computed by:\n",
    "\n",
    "$$ Re = \\frac{v D_h}{\\nu} $$\n",
    "\n",
    "where:\n",
    "- $v \\: [m/s]$ is the mean fluid velocity,\n",
    "- $D_h \\: [m]$ is the hydraulic diameter and\n",
    "- $\\nu \\: [m^2/s]$ is the kinematic viscosity."
   ]
  },
  {
   "cell_type": "markdown",
   "metadata": {
    "deletable": false,
    "editable": false,
    "nbgrader": {
     "cell_type": "markdown",
     "checksum": "686d2f348cfb0bc80d29f38c1f7a66b7",
     "grade": false,
     "grade_id": "cell-0e65167b2d5b55cb",
     "locked": true,
     "schema_version": 3,
     "solution": false
    }
   },
   "source": [
    "<div class=\"panel-group\" role=\"tablist\" aria-multiselectable=\"true\">\n",
    "  <div class=\"panel panel-default\">\n",
    "    <div class=\"panel-heading\" role=\"tab\">\n",
    "      <h4 class=\"panel-title\">\n",
    "        <a class=\"collapsed\" role=\"button\" data-toggle=\"collapse\" href=\"#collapseOne\" aria-expanded=\"false\" aria-controls=\"collapseOne\">\n",
    "          Hint (click to expand / hide)\n",
    "        </a>\n",
    "      </h4>\n",
    "    </div>\n",
    "    <div id=\"collapseOne\" class=\"panel-collapse collapse\" role=\"tabpanel\">\n",
    "      <div class=\"panel-body\">\n",
    "        <p>Encapsulate the code from Problem Set 1 (Problem 3) inside functions.</p>\n",
    "      </div>\n",
    "    </div>\n",
    "  </div>\n",
    "</div>"
   ]
  },
  {
   "cell_type": "markdown",
   "metadata": {
    "deletable": false,
    "editable": false,
    "nbgrader": {
     "cell_type": "markdown",
     "checksum": "74cb0f2f34ca74c68dea6e6693239f5b",
     "grade": false,
     "grade_id": "cell-530fe6a03abdedb8",
     "locked": true,
     "schema_version": 3,
     "solution": false
    }
   },
   "source": [
    "---\n",
    "## Part A (1 point):\n",
    "\n",
    "Write a function that takes the the width $w$ and height $h$ of a rectangular duct cross-section as input. This function must compute and return the hydraulic diameter computed from:\n",
    "\n",
    "$$ D_h = \\frac{2wh}{w + h} $$"
   ]
  },
  {
   "cell_type": "code",
   "execution_count": null,
   "metadata": {
    "deletable": false,
    "nbgrader": {
     "cell_type": "code",
     "checksum": "b23107ac109f76b312352a89095ca6bf",
     "grade": false,
     "grade_id": "hydraulic_diameter",
     "locked": false,
     "schema_version": 3,
     "solution": true
    }
   },
   "outputs": [],
   "source": [
    "def hydraulic_diameter(w, h):\n",
    "    # INSERT YOUR CODE FOLLOWING THIS LINE; DO NOT ERASE THIS LINE.\n",
    "    hyd_diam = (2*w*h)/(w+h)\n",
    "    \n",
    "\n",
    "\n",
    "# Feel free to change / delete the following lines\n",
    "hyd_diam1 = hydraulic_diameter(w=0.02, h=0.02)\n",
    "print(hyd_diam1)\n",
    "print(hydraulic_diameter(0.04, 0.04))"
   ]
  },
  {
   "cell_type": "code",
   "execution_count": null,
   "metadata": {
    "deletable": false,
    "editable": false,
    "nbgrader": {
     "cell_type": "code",
     "checksum": "113b8afba686a8b00c9c6df977373eb5",
     "grade": true,
     "grade_id": "correct_hydraulic_diameter",
     "locked": true,
     "points": 1,
     "schema_version": 3,
     "solution": false
    }
   },
   "outputs": [],
   "source": [
    "\"\"\"\n",
    "Run this cell to check your answer.\n",
    "Note: there may be additional tests that are added after you submit your assignment, but this\n",
    "should give some indication if your answer is correct or not.\n",
    "\"\"\"\n",
    "import sys\n",
    "try:\n",
    "    del sys.modules['nbtest']\n",
    "except KeyError:\n",
    "    pass\n",
    "import nbtest\n",
    "\n",
    "nbtest.validate(hydraulic_diameter(w=0.02, h=0.02), 0.02)\n",
    "nbtest.validate(hydraulic_diameter(w=0.04, h=0.04), 0.04)\n",
    "print(\"All current tests passed.\")"
   ]
  },
  {
   "cell_type": "markdown",
   "metadata": {
    "deletable": false,
    "editable": false,
    "nbgrader": {
     "cell_type": "markdown",
     "checksum": "f34f5113220ca485794fe8c3685e873c",
     "grade": false,
     "grade_id": "cell-5d8cc32b0ec29209",
     "locked": true,
     "schema_version": 3,
     "solution": false
    }
   },
   "source": [
    "---\n",
    "## Part B (1 point):\n",
    "\n",
    "Write a function that takes the fluid velocity $v$, kinematic viscosity $\\nu$ and hydraulic diameter $D_h$ as input. This function must compute and return the Renolds $\\mathrm{Re}$ number computed from:\n",
    "\n",
    "$$ Re = \\frac{v D_h}{\\nu} $$"
   ]
  },
  {
   "cell_type": "code",
   "execution_count": null,
   "metadata": {
    "deletable": false,
    "nbgrader": {
     "cell_type": "code",
     "checksum": "ab19bf3dc43dc214b3bfa5f331a03047",
     "grade": false,
     "grade_id": "renolds_number",
     "locked": false,
     "schema_version": 3,
     "solution": true
    }
   },
   "outputs": [],
   "source": [
    "def renolds(v, nu, Dh):\n",
    "    # INSERT YOUR CODE FOLLOWING THIS LINE; DO NOT ERASE THIS LINE.\n",
    "\n",
    "\n",
    "# Feel free to change / delete the following lines\n",
    "Re1 = renolds(v=0.2, nu=1.005e-6, Dh=0.02)\n",
    "print(Re1)\n",
    "print(renolds(0.4, 1.005e-6, 0.02))"
   ]
  },
  {
   "cell_type": "code",
   "execution_count": null,
   "metadata": {
    "deletable": false,
    "editable": false,
    "nbgrader": {
     "cell_type": "code",
     "checksum": "01b3167be995888d4c1cd16e021fea98",
     "grade": true,
     "grade_id": "correct_renolds_number",
     "locked": true,
     "points": 1,
     "schema_version": 3,
     "solution": false
    }
   },
   "outputs": [],
   "source": [
    "\"\"\"\n",
    "Run this cell to check your answer.\n",
    "Note: there may be additional tests that are added after you submit your assignment, but this\n",
    "should give some indication if your answer is correct or not.\n",
    "\"\"\"\n",
    "import sys\n",
    "try:\n",
    "    del sys.modules['nbtest']\n",
    "except KeyError:\n",
    "    pass\n",
    "import nbtest\n",
    "\n",
    "nbtest.validate(renolds(v=0.2, nu=1.005e-6, Dh=0.02), 3980.099502487563)\n",
    "nbtest.validate(renolds(v=0.4, nu=1.005e-6, Dh=0.02), 7960.199004975126)\n",
    "print(\"All current tests passed.\")"
   ]
  },
  {
   "cell_type": "markdown",
   "metadata": {
    "deletable": false,
    "editable": false,
    "nbgrader": {
     "cell_type": "markdown",
     "checksum": "f0aee0b6a4b7a32ab657d8ded12ec328",
     "grade": false,
     "grade_id": "cell-efe7e5d15903cf86",
     "locked": true,
     "schema_version": 3,
     "solution": false
    }
   },
   "source": [
    "---\n",
    "## Part C (1 point):\n",
    "\n",
    "Write a function that take the Renolds number $\\mathrm{Re}$ and Prandtl number $\\mathrm{Pr}$ as input. This function must compute the Nusselt number $\\mathrm{Nu}$ from:\n",
    "\n",
    "$$ \\mathrm{Nu} = 0.023 \\mathrm{Re}^{4/5} \\mathrm{Pr}^{0.3} $$"
   ]
  },
  {
   "cell_type": "code",
   "execution_count": null,
   "metadata": {
    "deletable": false,
    "nbgrader": {
     "cell_type": "code",
     "checksum": "c09679fce059871aafee21cb856aade0",
     "grade": false,
     "grade_id": "prandtl_number",
     "locked": false,
     "schema_version": 3,
     "solution": true
    }
   },
   "outputs": [],
   "source": [
    "def nusselt(Re, Pr):\n",
    "    # INSERT YOUR CODE FOLLOWING THIS LINE; DO NOT ERASE THIS LINE.\n",
    "\n",
    "\n",
    "# Feel free to change / delete the following lines\n",
    "print(nusselt(Re=5000, Pr=7))\n",
    "print(nusselt(6000, 7))"
   ]
  },
  {
   "cell_type": "code",
   "execution_count": null,
   "metadata": {
    "deletable": false,
    "editable": false,
    "nbgrader": {
     "cell_type": "code",
     "checksum": "a4f61aa9f2fa1a296fdcdebbd7b67e4f",
     "grade": true,
     "grade_id": "correct_prandtl_number",
     "locked": true,
     "points": 1,
     "schema_version": 3,
     "solution": false
    }
   },
   "outputs": [],
   "source": [
    "\"\"\"\n",
    "Run this cell to check your answer.\n",
    "Note: there may be additional tests that are added after you submit your assignment, but this\n",
    "should give some indication if your answer is correct or not.\n",
    "\"\"\"\n",
    "import sys\n",
    "try:\n",
    "    del sys.modules['nbtest']\n",
    "except KeyError:\n",
    "    pass\n",
    "import nbtest\n",
    "\n",
    "nbtest.validate(nusselt(Re=5000, Pr=7), 37.53472613706726)\n",
    "nbtest.validate(nusselt(Re=6000, Pr=7), 43.42884189738209)\n",
    "print(\"All current tests passed.\")"
   ]
  },
  {
   "cell_type": "markdown",
   "metadata": {
    "deletable": false,
    "editable": false,
    "nbgrader": {
     "cell_type": "markdown",
     "checksum": "dbb7da96a20a8f64c698a5616a0f53ca",
     "grade": false,
     "grade_id": "cell-e51b0a2cfbc196f7",
     "locked": true,
     "schema_version": 3,
     "solution": false
    }
   },
   "source": [
    "---\n",
    "\n",
    "## Part D (2 points)\n",
    "\n",
    "**Using the functions above**, create a function  `heat_coefficient` that has one input parameter, the Prandtl number $\\mathrm{Pr}$, and computes the heat transfer coefficient $h$ from:\n",
    "\n",
    "$$ h = \\frac{k \\mathrm{Nu}}{D_h} $$\n",
    "\n",
    "for:\n",
    "- $w = 0.09 \\: [m]$\n",
    "- $h = 0.01 \\: [m]$\n",
    "- $k = 0.6 \\: [W/m\\cdot K]$\n",
    "- $v = 0.8 \\: [m/s] $\n",
    "- $\\nu = 1.005 \\times 10^{-6} \\: [m^2/s]$\n",
    "- $\\mathrm{Pr} = 7$\n",
    "\n",
    "The `hydraulic_diameter`, `renolds`, and `nusselt` functions should be called (used) inside the `heat_coefficient` function as part of the solution."
   ]
  },
  {
   "cell_type": "code",
   "execution_count": null,
   "metadata": {
    "deletable": false,
    "nbgrader": {
     "cell_type": "code",
     "checksum": "41fbcd04144ee8e0a7aca39c8cc9c7a3",
     "grade": false,
     "grade_id": "heat_transfer",
     "locked": false,
     "schema_version": 3,
     "solution": true
    }
   },
   "outputs": [],
   "source": [
    "def heat_coefficient(Pr):\n",
    "    # INSERT YOUR CODE FOLLOWING THIS LINE; DO NOT ERASE THIS LINE.\n",
    "    return h\n",
    "\n",
    "\n",
    "Pr = 7\n",
    "\n",
    "# Feel free to change / delete the following lines\n",
    "print(heat_coefficient(Pr))"
   ]
  },
  {
   "cell_type": "code",
   "execution_count": null,
   "metadata": {
    "deletable": false,
    "editable": false,
    "nbgrader": {
     "cell_type": "code",
     "checksum": "6c16e2c8ae00adc6849a16d12d66dc6e",
     "grade": true,
     "grade_id": "correct_heat_transfer",
     "locked": true,
     "points": 2,
     "schema_version": 3,
     "solution": false
    }
   },
   "outputs": [],
   "source": [
    "\"\"\"\n",
    "Run this cell to check your answer.\n",
    "Note: there may be additional tests that are added after you submit your assignment, but this\n",
    "should give some indication if your answer is correct or not.\n",
    "\"\"\"\n",
    "import sys\n",
    "import inspect\n",
    "try:\n",
    "    del sys.modules['nbtest']\n",
    "except KeyError:\n",
    "    pass\n",
    "import nbtest\n",
    "Pr = 7\n",
    "\n",
    "ans = heat_coefficient(Pr)\n",
    "assert 2000 < ans and ans < 5000\n",
    "\n",
    "frame = inspect.currentframe()\n",
    "for name in ['hydraulic_diameter', 'renolds', 'nusselt']:\n",
    "    nbtest.validate_function_uses(heat_coefficient, name, frame, Pr)\n",
    "print(\"All current tests passed.\")"
   ]
  }
 ],
 "metadata": {
  "kernelspec": {
   "display_name": "Python 3",
   "language": "python",
   "name": "python3"
  },
  "language_info": {
   "codemirror_mode": {
    "name": "ipython",
    "version": 3
   },
   "file_extension": ".py",
   "mimetype": "text/x-python",
   "name": "python",
   "nbconvert_exporter": "python",
   "pygments_lexer": "ipython3",
   "version": "3.8.3"
  }
 },
 "nbformat": 4,
 "nbformat_minor": 1
}
