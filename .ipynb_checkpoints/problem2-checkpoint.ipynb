{
 "cells": [
  {
   "cell_type": "markdown",
   "metadata": {},
   "source": [
    "# MPR213 Assignment Problem\n",
    "\n",
    "## Instructions\n",
    "\n",
    "- Fill in any place that says `# INSERT YOUR CODE FOLLOWING THIS LINE; DO NOT ERASE THIS LINE.`\n",
    "- Fill in your code right after this line and only in the same cell as this line.\n",
    "- You may copy cells or insert new cells in order to assist you in debugging your code.  **All copied or new cells, however, must be deleted before the file is finally saved as part of the answer to the assignment.  Failing to do so may crash the autograder and result in a zero mark for the whole assignment.**\n",
    "- You may use `nbtutor` to assist you in debugging your code.  **All code that refer to `nbtutor` should, however, be deleted before the file is finally saved as part of the answer to the assignment.  Failing to do so may crash the autograder and result in a zero mark for the whole assignment.**\n",
    "- **Do not rename this notebook otherwise the autograder will not grade it, resulting in a zero mark.**  For example, make sure that no space or a version number like `(2)` is inserted before the `.ipynb` of any one of the files of the assignment.  When students do not perform the upload to clickUP correctly, clickUP adds a version number.  When this happens, you need to correct it.  Note that on clickUP you can always go back the previously uploaded batches of files from the clickUP assignment, if it is still active, or otherwise by using the grade center (to check what you have uploaded after the clickUP assignment is no longer available).\n",
    "- Before you finally save your notebook file as answer to part of the assignment, make sure everything runs as expected:\n",
    "  - First, **restart the kernel** (in the menubar, select `Kernel` $\\rightarrow$ `Restart`).\n",
    "  - Second **run all cells** (in the menubar, select `Cell` $\\rightarrow$ `Run All`).  The whole notebook should now run from the first to the last cell without any interaction of a human programmer/operator, since the autograder cannot take any action on your behalf.\n",
    "  - If you cannot get a cell in your notebook to work properly, in the sense that Python interrupts with an error, the autograder will actually try to execute and grade the cells lower down in the notebook, so in such a case ensure that as much as possible of the lower cells run correctly.  This the autograder will do only if your submitted file does not contain new and/or copied cells.  If you do have problems with an erroneous cell that interrupts Python execution early in your notebook file, you can of course test the lower cells on a cell-by-cell basis or you can **run all cells below** (in the menubar, select `Cell` $\\rightarrow$ `Run All Below`).\n",
    "- Make sure you fill your student number (starting with \"u\", i.e. replace the \"12345678\" with your own student number) in the first code cell below.  Your student number with the preceding \"u\" must be such that Python reads it as a single string.\n",
    "- If you wish to protect your feedback (perusal) zip file with a password, you need to specify a password in the `problem1.ipynb` notebook, even if you choose not to answer the first problem."
   ]
  },
  {
   "cell_type": "code",
   "execution_count": null,
   "metadata": {
    "deletable": false,
    "nbgrader": {
     "cell_type": "code",
     "checksum": "a4904a958d2f5af96d7998cde02db874",
     "grade": false,
     "grade_id": "cell-a2d6c4ab9b689859",
     "locked": false,
     "schema_version": 3,
     "solution": true,
     "task": false
    }
   },
   "outputs": [],
   "source": [
    "checker1 = True  # Do not change this line.\n",
    "# INSERT YOUR CODE FOLLOWING THIS LINE; DO NOT ERASE THIS LINE.\n",
    "STUDENT_NUMBER  = \"u12345678\""
   ]
  },
  {
   "cell_type": "code",
   "execution_count": null,
   "metadata": {
    "deletable": false,
    "editable": false,
    "nbgrader": {
     "cell_type": "code",
     "checksum": "c5e51ea6f555fa80379570b9242710c7",
     "grade": false,
     "grade_id": "cell-0ef88277b10e74bf",
     "locked": true,
     "schema_version": 3,
     "solution": false,
     "task": false
    }
   },
   "outputs": [],
   "source": [
    "# Execute this cell to partly test whether the format you used to enter your student number in\n",
    "#      the cell above is correct.\n",
    "\n",
    "if checker1:\n",
    "    try:\n",
    "        assert STUDENT_NUMBER != \"u12345678\"\n",
    "    except AssertionError:\n",
    "        raise AssertionError(\"You have not replaced 12345678 with your student number in the cell above.\")\n",
    "\n",
    "try:\n",
    "    assert type(STUDENT_NUMBER) == str\n",
    "except AssertionError:\n",
    "    raise AssertionError(\"The variable STUDENT_NUMBER is not a string.\")\n",
    "\n",
    "try:\n",
    "    assert len(STUDENT_NUMBER) == 9\n",
    "except AssertionError:\n",
    "    raise AssertionError(\"The variable STUDENT_NUMBER is not 9 characters long.\")\n",
    "    \n",
    "try:\n",
    "    assert STUDENT_NUMBER[0] == 'u'\n",
    "except AssertionError:\n",
    "    raise AssertionError(\"The string variable STUDENT_NUMBER does not start with the character 'u'.\")"
   ]
  },
  {
   "cell_type": "markdown",
   "metadata": {
    "deletable": false,
    "editable": false,
    "nbgrader": {
     "cell_type": "markdown",
     "checksum": "d88b9bbdd0add0c9d538e8d36e5cf892",
     "grade": false,
     "grade_id": "cell-0cbdd8141fd6dd68",
     "locked": true,
     "schema_version": 3,
     "solution": false
    }
   },
   "source": [
    "# Problem 2\n",
    "\n",
    "In an experimental setup, thermocouples are placed on along the surface of a tube (with an outer diameter $D$) as shown below.\n",
    "\n",
    "<img src=\"tube.svg\" alt=\"\" style=\"height: 100px;\">\n",
    "\n",
    "The thermocouples are denoted by $t_i$ in the image above and are placed a distance $L$ from one another. Each thermocouple records a temperature in Volts, denoted by $V_i$, between 0 and 1.\n",
    "\n",
    "The thermocouple readings (in Volts $V_i$) can be converted to degrees Celcius ${}^\\circ C$ by:\n",
    "\n",
    "$$ T_i = m (V_i - V_\\infty) + T_\\infty  $$\n",
    "\n",
    "The heat fluxes $\\dot q_i \\: [W]$ can be computed from the temperatures $T_i$ by:\n",
    "\n",
    "$$ \\dot q_i = h A (T_i - T_\\infty) $$\n",
    "\n",
    "And $A$ can be approximated by:\n",
    "\n",
    "$$ A = \\pi D L $$"
   ]
  },
  {
   "cell_type": "markdown",
   "metadata": {
    "deletable": false,
    "editable": false,
    "nbgrader": {
     "cell_type": "markdown",
     "checksum": "4b0339eed85422df86812148393d843c",
     "grade": false,
     "grade_id": "cell-f0bfa4cfc918dd45",
     "locked": true,
     "schema_version": 3,
     "solution": false
    }
   },
   "source": [
    "---\n",
    "## Part A (2 points):\n",
    "\n",
    "Write a function that takes the thermocouple voltage reading/s $V_i$ as input. This function must return the corresponding temperature reading/s $T_i$ using:\n",
    "\n",
    "$$ T_i = m (V_i - V_\\infty) + T_\\infty  $$\n",
    "\n",
    "where $V_\\infty = 0.1 \\; [V]$ is the calibrated voltage reading that corresponds to the refference temperature $T_\\infty = 25 \\; [{}^\\circ C]$ and $m = 200 \\; [V^{-1}]$."
   ]
  },
  {
   "cell_type": "code",
   "execution_count": null,
   "metadata": {
    "deletable": false,
    "nbgrader": {
     "cell_type": "code",
     "checksum": "139f1baebfc03028552e7cb87337b182",
     "grade": false,
     "grade_id": "to_degrees_celcius",
     "locked": false,
     "schema_version": 3,
     "solution": true
    }
   },
   "outputs": [],
   "source": [
    "def to_degrees_celcius(V):\n",
    "    # INSERT YOUR CODE FOLLOWING THIS LINE; DO NOT ERASE THIS LINE.\n",
    "\n",
    "\n",
    "# Feel free to change / delete the following lines\n",
    "print(to_degrees_celcius(V=0.1))\n",
    "print(to_degrees_celcius(0.2))"
   ]
  },
  {
   "cell_type": "code",
   "execution_count": null,
   "metadata": {
    "deletable": false,
    "editable": false,
    "nbgrader": {
     "cell_type": "code",
     "checksum": "ef3bfaf1ee2b29e74741c9e648da84de",
     "grade": true,
     "grade_id": "correct_to_degrees_celcius",
     "locked": true,
     "points": 2,
     "schema_version": 3,
     "solution": false
    }
   },
   "outputs": [],
   "source": [
    "\"\"\"\n",
    "Run this cell to check your answer.\n",
    "Note: there may be additional tests that are added after you submit your assignment, but this\n",
    "should give some indication if your answer is correct or not.\n",
    "\"\"\"\n",
    "import sys\n",
    "try:\n",
    "    del sys.modules['nbtest']\n",
    "except KeyError:\n",
    "    pass\n",
    "import nbtest\n",
    "import numpy as np\n",
    "\n",
    "nbtest.validate(to_degrees_celcius(V=0.1), 25.)\n",
    "nbtest.validate(to_degrees_celcius(V=0.2), 45.)\n",
    "nbtest.validate(\n",
    "    to_degrees_celcius(V=np.array([0.8, 0.7])),\n",
    "    np.array([165.0, 145.0])\n",
    ")\n",
    "print(\"All current tests passed.\")"
   ]
  },
  {
   "cell_type": "markdown",
   "metadata": {
    "deletable": false,
    "editable": false,
    "nbgrader": {
     "cell_type": "markdown",
     "checksum": "210ff52f1186aab1284f50ddd331d5b7",
     "grade": false,
     "grade_id": "cell-7e78d79719bc4379",
     "locked": true,
     "schema_version": 3,
     "solution": false
    }
   },
   "source": [
    "---\n",
    "## Part B (1 points):\n",
    "\n",
    "Write a function that takes the distance $L$ and outer diameter $D$ as input. This function must return the area $A$ using:\n",
    "\n",
    "$$ A = \\pi D L $$\n",
    "\n",
    "where $D$ is the outer tube diameter and $L$ is the distance between thermocouples."
   ]
  },
  {
   "cell_type": "code",
   "execution_count": null,
   "metadata": {
    "deletable": false,
    "nbgrader": {
     "cell_type": "code",
     "checksum": "ca9839c736ea3843845bc3c6e223993d",
     "grade": false,
     "grade_id": "area",
     "locked": false,
     "schema_version": 3,
     "solution": true
    }
   },
   "outputs": [],
   "source": [
    "def area(L, D):\n",
    "    import numpy as np\n",
    "    # INSERT YOUR CODE FOLLOWING THIS LINE; DO NOT ERASE THIS LINE.\n",
    "\n",
    "\n",
    "# Feel free to change / delete the following lines\n",
    "print(area(L=0.02, D=0.01))\n",
    "print(area(0.02, 0.02))"
   ]
  },
  {
   "cell_type": "code",
   "execution_count": null,
   "metadata": {
    "deletable": false,
    "editable": false,
    "nbgrader": {
     "cell_type": "code",
     "checksum": "722276bd264710e0fa567cee5f3fc302",
     "grade": true,
     "grade_id": "correct_area",
     "locked": true,
     "points": 1,
     "schema_version": 3,
     "solution": false
    }
   },
   "outputs": [],
   "source": [
    "\"\"\"\n",
    "Run this cell to check your answer.\n",
    "Note: there may be additional tests that are added after you submit your assignment, but this\n",
    "should give some indication if your answer is correct or not.\n",
    "\"\"\"\n",
    "import sys\n",
    "try:\n",
    "    del sys.modules['nbtest']\n",
    "except KeyError:\n",
    "    pass\n",
    "import nbtest\n",
    "\n",
    "nbtest.validate(area(L=0.02, D=0.01), 0.0006283185307179587)\n",
    "nbtest.validate(area(L=0.02, D=0.02), 0.0012566370614359175)\n",
    "print(\"All current tests passed.\")"
   ]
  },
  {
   "cell_type": "markdown",
   "metadata": {
    "deletable": false,
    "editable": false,
    "nbgrader": {
     "cell_type": "markdown",
     "checksum": "fc2fdf618f07d3b5353044d87c29589b",
     "grade": false,
     "grade_id": "cell-5bc00346b607b2c7",
     "locked": true,
     "schema_version": 3,
     "solution": false
    }
   },
   "source": [
    "---\n",
    "## Part C (2 points):\n",
    "\n",
    "Write a function that takes the area $A$ and temperature/s $T_i$ as input. This function must return the heat flux/s $\\dot q_i$ using:\n",
    "\n",
    "$$ \\dot q_i = h A (T_i - T_\\infty) $$\n",
    "\n",
    "where $h = 500 \\; [W/m^2 \\cdot {}^\\circ C]$ and $T_\\infty = 25 \\; [{}^\\circ C]$."
   ]
  },
  {
   "cell_type": "code",
   "execution_count": null,
   "metadata": {
    "deletable": false,
    "nbgrader": {
     "cell_type": "code",
     "checksum": "239532794a5dd944fe98e5f0e6b8741f",
     "grade": false,
     "grade_id": "heat_flux",
     "locked": false,
     "schema_version": 3,
     "solution": true
    }
   },
   "outputs": [],
   "source": [
    "def heat_flux(A, T):\n",
    "    # INSERT YOUR CODE FOLLOWING THIS LINE; DO NOT ERASE THIS LINE.\n",
    "\n",
    "\n",
    "# Feel free to change / delete the following lines\n",
    "print(heat_flux(A=0.0005, T=25))\n",
    "print(heat_flux(0.0005, 45))"
   ]
  },
  {
   "cell_type": "code",
   "execution_count": null,
   "metadata": {
    "deletable": false,
    "editable": false,
    "nbgrader": {
     "cell_type": "code",
     "checksum": "e4a6c3a3bc6044a147b7d775297c35fa",
     "grade": true,
     "grade_id": "correct_heat_flux",
     "locked": true,
     "points": 2,
     "schema_version": 3,
     "solution": false
    }
   },
   "outputs": [],
   "source": [
    "\"\"\"\n",
    "Run this cell to check your answer.\n",
    "Note: there may be additional tests that are added after you submit your assignment, but this\n",
    "should give some indication if your answer is correct or not.\n",
    "\"\"\"\n",
    "import sys\n",
    "try:\n",
    "    del sys.modules['nbtest']\n",
    "except KeyError:\n",
    "    pass\n",
    "import nbtest\n",
    "import numpy as np\n",
    "\n",
    "nbtest.validate(heat_flux(A=0.0005, T=25), 0.0)\n",
    "nbtest.validate(heat_flux(A=0.0005, T=45), 5.0)\n",
    "nbtest.validate(\n",
    "    heat_flux(A=0.0005, T=np.array([165, 145])),\n",
    "    np.array([35.0, 30.0])\n",
    ")\n",
    "print(\"All current tests passed.\")"
   ]
  },
  {
   "cell_type": "markdown",
   "metadata": {
    "deletable": false,
    "editable": false,
    "nbgrader": {
     "cell_type": "markdown",
     "checksum": "b24f80ecda13391f036f53a65cc1d469",
     "grade": false,
     "grade_id": "cell-71b3f31096b0283e",
     "locked": true,
     "schema_version": 3,
     "solution": false
    }
   },
   "source": [
    "---\n",
    "## Part D (2 points):\n",
    "\n",
    "The total heat flux $\\dot Q \\: [W]$ can be computed by:\n",
    "\n",
    "$$ \\dot Q = \\sum_{i=0}^n \\dot q_i$$\n",
    "\n",
    "**Using the functions above**, compute the total heat flux $\\dot Q$, by completing the function `total_heat_flux` (with no input arguments), for:\n",
    "- $ D = 0.03 \\; [m] $\n",
    "- $ L = 0.02 \\; [m] $\n",
    "- $ V = [0.9, 0.8, 0.7, 0.6, 0.5, 0.4, 0.3, 0.2] \\; [V] $\n",
    "\n",
    "As indicated in the next cell, the function `total_heat_flux` returns the variable `Q`.  This is the required total heat flux $\\dot Q$."
   ]
  },
  {
   "cell_type": "code",
   "execution_count": null,
   "metadata": {
    "deletable": false,
    "nbgrader": {
     "cell_type": "code",
     "checksum": "bf83641704d107484d62eb17f76c9a65",
     "grade": false,
     "grade_id": "total_heat_flux",
     "locked": false,
     "schema_version": 3,
     "solution": true
    }
   },
   "outputs": [],
   "source": [
    "def total_heat_flux():\n",
    "    import numpy as np\n",
    "    V = np.array([0.9, 0.8, 0.7, 0.6, 0.5, 0.4, 0.3, 0.2])\n",
    "    # INSERT YOUR CODE FOLLOWING THIS LINE; DO NOT ERASE THIS LINE.\n",
    "    return Q\n",
    "\n",
    "\n",
    "# Feel free to change / delete the following lines\n",
    "print(total_heat_flux())"
   ]
  },
  {
   "cell_type": "markdown",
   "metadata": {
    "deletable": false,
    "editable": false,
    "nbgrader": {
     "cell_type": "markdown",
     "checksum": "ffa82ba0f8573f332d46363a308640b3",
     "grade": false,
     "grade_id": "cell-5821456da9eb3db2",
     "locked": true,
     "schema_version": 3,
     "solution": false
    }
   },
   "source": [
    "<div class=\"panel-group\" role=\"tablist\" aria-multiselectable=\"true\">\n",
    "  <div class=\"panel panel-default\">\n",
    "    <div class=\"panel-heading\" role=\"tab\">\n",
    "      <h4 class=\"panel-title\">\n",
    "        <a class=\"collapsed\" role=\"button\" data-toggle=\"collapse\" href=\"#collapseTwo\" aria-expanded=\"false\" aria-controls=\"collapseTwo\">\n",
    "          Hint (click to expand / hide)\n",
    "        </a>\n",
    "      </h4>\n",
    "    </div>\n",
    "    <div id=\"collapseTwo\" class=\"panel-collapse collapse\" role=\"tabpanel\">\n",
    "      <div class=\"panel-body\">\n",
    "        <p>The `to_degrees_celcius`, `area`, and `heat_flux` functions should be called (used) inside the `total_heat_flux` as part of the solution.</p>\n",
    "      </div>\n",
    "    </div>\n",
    "  </div>\n",
    "</div>"
   ]
  },
  {
   "cell_type": "code",
   "execution_count": null,
   "metadata": {
    "deletable": false,
    "editable": false,
    "nbgrader": {
     "cell_type": "code",
     "checksum": "93417cb19b217ed6762d223a2415875f",
     "grade": true,
     "grade_id": "correct_total_heat_flux",
     "locked": true,
     "points": 2,
     "schema_version": 3,
     "solution": false
    }
   },
   "outputs": [],
   "source": [
    "\"\"\"\n",
    "Run this cell to check your answer.\n",
    "Note: there may be additional tests that are added after you submit your assignment, but this\n",
    "should give a good indication if your answer is correct or not.\n",
    "\"\"\"\n",
    "import sys\n",
    "import inspect\n",
    "try:\n",
    "    del sys.modules['nbtest']\n",
    "except KeyError:\n",
    "    pass\n",
    "import nbtest\n",
    "\n",
    "ans = total_heat_flux()\n",
    "assert 600 < ans and ans < 700\n",
    "\n",
    "frame = inspect.currentframe()\n",
    "for name in ['to_degrees_celcius', 'area', 'heat_flux']:\n",
    "    nbtest.validate_function_uses(total_heat_flux, name, frame)\n",
    "print(\"All current tests passed.\")"
   ]
  }
 ],
 "metadata": {
  "kernelspec": {
   "display_name": "Python 3",
   "language": "python",
   "name": "python3"
  },
  "language_info": {
   "codemirror_mode": {
    "name": "ipython",
    "version": 3
   },
   "file_extension": ".py",
   "mimetype": "text/x-python",
   "name": "python",
   "nbconvert_exporter": "python",
   "pygments_lexer": "ipython3",
   "version": "3.8.3"
  }
 },
 "nbformat": 4,
 "nbformat_minor": 1
}
