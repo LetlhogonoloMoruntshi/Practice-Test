{
 "cells": [
  {
   "cell_type": "code",
   "execution_count": 1,
   "metadata": {},
   "outputs": [
    {
     "name": "stdout",
     "output_type": "stream",
     "text": [
      "0754845825\n",
      "a0754s84582s5\n"
     ]
    }
   ],
   "source": [
    "my_list = 'a0754s84582s5'\n",
    "\n",
    "def clean_num(num):\n",
    "\n",
    "    number = list(my_list)\n",
    "    clean_number = []\n",
    "\n",
    "    for i in number:\n",
    "        if i == '0':\n",
    "            clean_number.append(0)\n",
    "\n",
    "        if i == '1':\n",
    "            clean_number.append(1)\n",
    "\n",
    "        if i == '2':\n",
    "            clean_number.append(2)\n",
    "\n",
    "        if i == '3':\n",
    "            clean_number.append(3)\n",
    "\n",
    "        if i == '4':\n",
    "            clean_number.append(4)\n",
    "\n",
    "        if i == '5':\n",
    "            clean_number.append(5)\n",
    "\n",
    "        if i == '6':\n",
    "            clean_number.append(6)\n",
    "\n",
    "        if i == '7':\n",
    "            clean_number.append(7)\n",
    "\n",
    "        if i == '8':\n",
    "            clean_number.append(8)\n",
    "\n",
    "        if i == '9':\n",
    "            clean_number.append(9)\n",
    "            \n",
    "    if clean_number[0] != 0:\n",
    "        clean_number.insert(0, 0)\n",
    "        \n",
    "    if len(clean_number) != 10:\n",
    "        clean_number = 'Incorrent Length, please check the number and dial again.'\n",
    "    else:\n",
    "        clean_number = [str(i) for i in clean_number]\n",
    "        clean_number = ''.join(clean_number)\n",
    "        \n",
    "    return clean_number\n",
    "\n",
    "print(clean_num(my_list))"
   ]
  },
  {
   "cell_type": "code",
   "execution_count": null,
   "metadata": {},
   "outputs": [],
   "source": []
  }
 ],
 "metadata": {
  "kernelspec": {
   "display_name": "Python 3",
   "language": "python",
   "name": "python3"
  },
  "language_info": {
   "codemirror_mode": {
    "name": "ipython",
    "version": 3
   },
   "file_extension": ".py",
   "mimetype": "text/x-python",
   "name": "python",
   "nbconvert_exporter": "python",
   "pygments_lexer": "ipython3",
   "version": "3.8.3"
  }
 },
 "nbformat": 4,
 "nbformat_minor": 4
}
